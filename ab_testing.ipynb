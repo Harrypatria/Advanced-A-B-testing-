{
 "cells": [
  {
   "cell_type": "markdown",
   "metadata": {},
   "source": [
    "#### A/B Test Analysis"
   ]
  },
  {
   "cell_type": "code",
   "execution_count": 1,
   "metadata": {},
   "outputs": [],
   "source": [
    "import numpy as np\n",
    "import pandas as pd\n",
    "import scipy.stats as stats\n",
    "import matplotlib.pyplot as plt\n",
    "import seaborn as sns"
   ]
  },
  {
   "cell_type": "code",
   "execution_count": 9,
   "metadata": {},
   "outputs": [],
   "source": [
    "def calculate_sample_size(baseline_conv_rate, mde, alpha=0.05, power=0.8):\n",
    "    \"\"\"\n",
    "    Calculate required sample size per variant.\n",
    "    \n",
    "    Parameters:\n",
    "    - baseline_conv_rate: Current conversion rate\n",
    "    - mde: Minimum detectable effect (relative change)\n",
    "    - alpha: Significance level (default: 0.05)\n",
    "    - power: Statistical power (default: 0.8)\n",
    "    \n",
    "    Returns:\n",
    "    - Required sample size per variant\n",
    "    \"\"\"\n",
    "    # Convert relative MDE to absolute\n",
    "    absolute_mde = baseline_conv_rate * mde\n",
    "    \n",
    "    # Z-scores\n",
    "    z_alpha = stats.norm.ppf(1 - alpha/2)\n",
    "    z_beta = stats.norm.ppf(power)\n",
    "    \n",
    "    # Pooled probability\n",
    "    p = baseline_conv_rate + absolute_mde/2\n",
    "    \n",
    "    # Sample size calculation\n",
    "    n = 2 * ((z_alpha + z_beta)**2 * p * (1-p)) / (absolute_mde**2)\n",
    "    \n",
    "    return int(np.ceil(n))"
   ]
  },
  {
   "cell_type": "code",
   "execution_count": 10,
   "metadata": {},
   "outputs": [],
   "source": [
    "\n",
    "def analyze_ab_test(control_visitors, control_conversions, \n",
    "                  treatment_visitors, treatment_conversions,\n",
    "                  alpha=0.05):\n",
    "    \"\"\"\n",
    "    Analyze A/B test results.\n",
    "    \n",
    "    Parameters:\n",
    "    - control_visitors: Number of visitors in control\n",
    "    - control_conversions: Number of conversions in control\n",
    "    - treatment_visitors: Number of visitors in treatment\n",
    "    - treatment_conversions: Number of conversions in treatment\n",
    "    - alpha: Significance level (default: 0.05)\n",
    "    \n",
    "    Returns:\n",
    "    - Dictionary with analysis results\n",
    "    \"\"\"\n",
    "    # Conversion rates\n",
    "    cr_control = control_conversions / control_visitors\n",
    "    cr_treatment = treatment_conversions / treatment_visitors\n",
    "    \n",
    "    # Relative uplift\n",
    "    relative_uplift = (cr_treatment - cr_control) / cr_control\n",
    "    \n",
    "    # Standard errors\n",
    "    se_control = np.sqrt(cr_control * (1 - cr_control) / control_visitors)\n",
    "    se_treatment = np.sqrt(cr_treatment * (1 - cr_treatment) / treatment_visitors)\n",
    "    \n",
    "    # Z-score for the difference in proportions\n",
    "    se_diff = np.sqrt(se_control**2 + se_treatment**2)\n",
    "    z_score = (cr_treatment - cr_control) / se_diff\n",
    "    \n",
    "    # P-value\n",
    "    p_value = 2 * (1 - stats.norm.cdf(abs(z_score)))\n",
    "    \n",
    "    # Confidence interval\n",
    "    ci_lower = (cr_treatment - cr_control) - stats.norm.ppf(1-alpha/2) * se_diff\n",
    "    ci_upper = (cr_treatment - cr_control) + stats.norm.ppf(1-alpha/2) * se_diff\n",
    "    \n",
    "    # Significance\n",
    "    is_significant = p_value < alpha\n",
    "    \n",
    "    return {\n",
    "        \"control_cr\": cr_control,\n",
    "        \"treatment_cr\": cr_treatment,\n",
    "        \"absolute_difference\": cr_treatment - cr_control,\n",
    "        \"relative_uplift\": relative_uplift,\n",
    "        \"z_score\": z_score,\n",
    "        \"p_value\": p_value,\n",
    "        \"ci_lower\": ci_lower,\n",
    "        \"ci_upper\": ci_upper,\n",
    "        \"is_significant\": is_significant\n",
    "    }"
   ]
  },
  {
   "cell_type": "code",
   "execution_count": 11,
   "metadata": {},
   "outputs": [
    {
     "name": "stdout",
     "output_type": "stream",
     "text": [
      "Required sample size per variant: 3123\n",
      "\n",
      "A/B Test Results:\n",
      "Control Conversion Rate: 12.00%\n",
      "Treatment Conversion Rate: 36.00%\n",
      "Absolute Difference: 24.00%\n",
      "Relative Uplift: 200.00%\n",
      "P-value: 0.000000\n",
      "95% Confidence Interval: [20.41%, 27.59%]\n",
      "Statistical Significance: Yes\n"
     ]
    },
    {
     "data": {
      "image/png": "[encoded data removed]",
      "text/plain": [
       "<Figure size 1000x600 with 1 Axes>"
      ]
     },
     "metadata": {},
     "output_type": "display_data"
    }
   ],
   "source": [
    "# Example usage\n",
    "if __name__ == \"__main__\":\n",
    "    # Sample size calculation\n",
    "    baseline_cr = 0.12  # 12% conversion rate\n",
    "    minimum_effect = 0.20  # 20% relative improvement\n",
    "    \n",
    "    sample_size = calculate_sample_size(baseline_cr, minimum_effect)\n",
    "    print(f\"Required sample size per variant: {sample_size}\")\n",
    "    \n",
    "    # Analyze test results\n",
    "    # Example: A/B test from the image (12% vs 36%)\n",
    "    control_visitors = 1000\n",
    "    control_conversions = 120  # 12% conversion rate\n",
    "    treatment_visitors = 1000\n",
    "    treatment_conversions = 360  # 36% conversion rate\n",
    "    \n",
    "    results = analyze_ab_test(control_visitors, control_conversions, \n",
    "                           treatment_visitors, treatment_conversions)\n",
    "    \n",
    "    # Print results\n",
    "    print(\"\\nA/B Test Results:\")\n",
    "    print(f\"Control Conversion Rate: {results['control_cr']:.2%}\")\n",
    "    print(f\"Treatment Conversion Rate: {results['treatment_cr']:.2%}\")\n",
    "    print(f\"Absolute Difference: {results['absolute_difference']:.2%}\")\n",
    "    print(f\"Relative Uplift: {results['relative_uplift']:.2%}\")\n",
    "    print(f\"P-value: {results['p_value']:.6f}\")\n",
    "    print(f\"95% Confidence Interval: [{results['ci_lower']:.2%}, {results['ci_upper']:.2%}]\")\n",
    "    print(f\"Statistical Significance: {'Yes' if results['is_significant'] else 'No'}\")\n",
    "\n",
    "    # Visualize results\n",
    "    labels = ['Control (A)', 'Treatment (B)']\n",
    "    conv_rates = [results['control_cr'], results['treatment_cr']]\n",
    "    \n",
    "    plt.figure(figsize=(10, 6))\n",
    "    sns.barplot(x=labels, y=conv_rates)\n",
    "    plt.title('Conversion Rate Comparison')\n",
    "    plt.ylabel('Conversion Rate')\n",
    "    plt.ylim(0, max(conv_rates) * 1.2)\n",
    "    \n",
    "    # Add conversion rate labels\n",
    "    for i, rate in enumerate(conv_rates):\n",
    "        plt.text(i, rate + 0.01, f\"{rate:.2%}\", ha='center')\n",
    "        \n",
    "    plt.show()"
   ]
  }
 ],
 "metadata": {
  "kernelspec": {
   "display_name": "ml",
   "language": "python",
   "name": "python3"
  },
  "language_info": {
   "codemirror_mode": {
    "name": "ipython",
    "version": 3
   },
   "file_extension": ".py",
   "mimetype": "text/x-python",
   "name": "python",
   "nbconvert_exporter": "python",
   "pygments_lexer": "ipython3",
   "version": "3.10.0"
  }
 },
 "nbformat": 4,
 "nbformat_minor": 2
}
